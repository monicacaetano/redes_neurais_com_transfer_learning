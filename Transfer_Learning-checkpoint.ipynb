{
 "cells": [
  {
   "cell_type": "markdown",
   "id": "f5da6cc7",
   "metadata": {},
   "source": [
    "### "
   ]
  },
  {
   "cell_type": "markdown",
   "id": "44e6e25a",
   "metadata": {},
   "source": [
    "### Instalando bibliotecas necessárias"
   ]
  },
  {
   "cell_type": "code",
   "execution_count": null,
   "id": "30214107",
   "metadata": {},
   "outputs": [
    {
     "name": "stdout",
     "output_type": "stream",
     "text": [
      "Collecting tensorflow_hub\n",
      "  Downloading tensorflow_hub-0.12.0-py2.py3-none-any.whl (108 kB)\n",
      "     -------------------------------------- 108.8/108.8 kB 6.2 MB/s eta 0:00:00\n",
      "Requirement already satisfied: numpy>=1.12.0 in c:\\users\\monica\\anaconda3\\lib\\site-packages (from tensorflow_hub) (1.22.4)\n",
      "Collecting protobuf>=3.8.0\n",
      "  Downloading protobuf-4.21.9-cp38-cp38-win_amd64.whl (525 kB)\n",
      "     -------------------------------------- 525.5/525.5 kB 8.3 MB/s eta 0:00:00\n",
      "Installing collected packages: protobuf, tensorflow_hub\n",
      "Successfully installed protobuf-4.21.9 tensorflow_hub-0.12.0\n"
     ]
    },
    {
     "name": "stderr",
     "output_type": "stream",
     "text": [
      "WARNING: Ignoring invalid distribution -tatsmodels (c:\\users\\monica\\anaconda3\\lib\\site-packages)\n",
      "WARNING: Ignoring invalid distribution -tatsmodels (c:\\users\\monica\\anaconda3\\lib\\site-packages)\n",
      "WARNING: Ignoring invalid distribution -tatsmodels (c:\\users\\monica\\anaconda3\\lib\\site-packages)\n",
      "WARNING: Ignoring invalid distribution -tatsmodels (c:\\users\\monica\\anaconda3\\lib\\site-packages)\n",
      "WARNING: Ignoring invalid distribution -tatsmodels (c:\\users\\monica\\anaconda3\\lib\\site-packages)\n",
      "ERROR: pip's dependency resolver does not currently take into account all the packages that are installed. This behaviour is the source of the following dependency conflicts.\n",
      "mysql-connector-python 8.0.31 requires protobuf<=3.20.1,>=3.11.0, but you have protobuf 4.21.9 which is incompatible.\n",
      "WARNING: Ignoring invalid distribution -tatsmodels (c:\\users\\monica\\anaconda3\\lib\\site-packages)\n",
      "WARNING: Ignoring invalid distribution -tatsmodels (c:\\users\\monica\\anaconda3\\lib\\site-packages)\n",
      "WARNING: Ignoring invalid distribution -tatsmodels (c:\\users\\monica\\anaconda3\\lib\\site-packages)\n",
      "\n",
      "[notice] A new release of pip available: 22.3 -> 22.3.1\n",
      "[notice] To update, run: python.exe -m pip install --upgrade pip\n"
     ]
    },
    {
     "name": "stdout",
     "output_type": "stream",
     "text": [
      "Collecting opencv-python"
     ]
    },
    {
     "name": "stderr",
     "output_type": "stream",
     "text": [
      "WARNING: Ignoring invalid distribution -tatsmodels (c:\\users\\monica\\anaconda3\\lib\\site-packages)\n",
      "WARNING: Ignoring invalid distribution -tatsmodels (c:\\users\\monica\\anaconda3\\lib\\site-packages)\n",
      "WARNING: Ignoring invalid distribution -tatsmodels (c:\\users\\monica\\anaconda3\\lib\\site-packages)\n",
      "WARNING: Ignoring invalid distribution -tatsmodels (c:\\users\\monica\\anaconda3\\lib\\site-packages)\n",
      "WARNING: Ignoring invalid distribution -tatsmodels (c:\\users\\monica\\anaconda3\\lib\\site-packages)\n",
      "WARNING: Ignoring invalid distribution -tatsmodels (c:\\users\\monica\\anaconda3\\lib\\site-packages)\n",
      "WARNING: Ignoring invalid distribution -tatsmodels (c:\\users\\monica\\anaconda3\\lib\\site-packages)\n",
      "\n",
      "[notice] A new release of pip available: 22.3 -> 22.3.1\n",
      "[notice] To update, run: python.exe -m pip install --upgrade pip\n"
     ]
    },
    {
     "name": "stdout",
     "output_type": "stream",
     "text": [
      "\n",
      "  Downloading opencv_python-4.6.0.66-cp36-abi3-win_amd64.whl (35.6 MB)\n",
      "     --------------------------------------- 35.6/35.6 MB 17.2 MB/s eta 0:00:00\n",
      "Requirement already satisfied: numpy>=1.14.5 in c:\\users\\monica\\anaconda3\\lib\\site-packages (from opencv-python) (1.22.4)\n",
      "Installing collected packages: opencv-python\n",
      "Successfully installed opencv-python-4.6.0.66\n"
     ]
    }
   ],
   "source": [
    "!pip3 install tensorflow_hub\n",
    "!pip3 install opencv-python\n",
    "!pip3 install tensorflow\n",
    "!pip3 install Pillow"
   ]
  },
  {
   "cell_type": "markdown",
   "id": "d7445b01",
   "metadata": {},
   "source": [
    "### Importando bibliotecas"
   ]
  },
  {
   "cell_type": "code",
   "execution_count": null,
   "id": "6e0dc817",
   "metadata": {},
   "outputs": [],
   "source": [
    "import numpy as np\n",
    "import cv2\n",
    "\n",
    "import PIL.Image as Image\n",
    "import os\n",
    "\n",
    "import matplotlib.pylab as plt\n",
    "\n",
    "import tensorflow as tf\n",
    "import tensorflow_hub as hub\n",
    "\n",
    "from tensorflow import keras\n",
    "from tensorflow.keras import layers\n",
    "from tensorflow.keras.models import Sequential\n",
    "\n",
    "from pathlib import Path\n",
    "import PIL\n"
   ]
  },
  {
   "cell_type": "markdown",
   "id": "089c15f8",
   "metadata": {},
   "source": [
    "### O MobileNet irá ser usado nesse projeto, sendo ele o classificador de origem"
   ]
  },
  {
   "cell_type": "code",
   "execution_count": null,
   "id": "5aef6bc1",
   "metadata": {},
   "outputs": [],
   "source": [
    "mobile_net_link = \"https://tfhub.dev/google/tf2-preview/mobilenet_v2/feature_vector/4 \""
   ]
  },
  {
   "cell_type": "markdown",
   "id": "23a9e614",
   "metadata": {},
   "source": [
    "### Importando o Dataset de flores"
   ]
  },
  {
   "cell_type": "markdown",
   "id": "4a97e71e",
   "metadata": {},
   "source": [
    "#### O Dataset irá ser baixado e descompactado"
   ]
  },
  {
   "cell_type": "code",
   "execution_count": null,
   "id": "f34aac34",
   "metadata": {},
   "outputs": [],
   "source": [
    "dataset_url = \"https://storage.googleapis.com/download.tensorflow.org/example_images/flower_photos.tgz\"\n",
    "data_dir = tf.keras.utils.get_file('flower_photos', origin=dataset_url,  cache_dir='.', untar=True)\n",
    "\n",
    "data_dir = Path(data_dir)\n",
    "data_dir"
   ]
  },
  {
   "cell_type": "markdown",
   "id": "93675442",
   "metadata": {},
   "source": [
    "### Contagem do número de fotos"
   ]
  },
  {
   "cell_type": "code",
   "execution_count": null,
   "id": "3f92826b",
   "metadata": {},
   "outputs": [],
   "source": [
    "image_count = len(list(data_dir.glob('*/*.jpg')))\n",
    "print(f\"O número total de fotos é: {image_count}\")\n",
    "\n",
    "daisy = list(data_dir.glob('daisy/*'))\n",
    "daisy[:5]"
   ]
  },
  {
   "cell_type": "markdown",
   "id": "229922bf",
   "metadata": {},
   "source": [
    "### Abrindo uma imagem de exemplo do DataSet (usando a biblioteca Pillow)"
   ]
  },
  {
   "cell_type": "code",
   "execution_count": null,
   "id": "de726faa",
   "metadata": {},
   "outputs": [],
   "source": [
    "PIL.Image.open(str(daisy[1]))"
   ]
  },
  {
   "cell_type": "markdown",
   "id": "7362d170",
   "metadata": {},
   "source": [
    "## Separando as fotos em atributos e classe"
   ]
  },
  {
   "cell_type": "markdown",
   "id": "2ab36647",
   "metadata": {},
   "source": [
    "### Dicionário das imagens das flores"
   ]
  },
  {
   "cell_type": "code",
   "execution_count": null,
   "id": "c904c9dd",
   "metadata": {},
   "outputs": [],
   "source": [
    "flowers_images_dict = {\n",
    "    'roses': list(data_dir.glob('roses/*')),\n",
    "    'daisy': list(data_dir.glob('daisy/*')),\n",
    "    'dandelion': list(data_dir.glob('dandelion/*')),\n",
    "    'sunflowers': list(data_dir.glob('sunflowers/*')),\n",
    "    'tulips': list(data_dir.glob('tulips/*')),\n",
    "}"
   ]
  },
  {
   "cell_type": "markdown",
   "id": "e1418e50",
   "metadata": {},
   "source": [
    "### Dicionário das classes das imagens"
   ]
  },
  {
   "cell_type": "code",
   "execution_count": null,
   "id": "3965b3b5",
   "metadata": {},
   "outputs": [],
   "source": [
    "flowers_labels_dict = {\n",
    "    'roses': 0,\n",
    "    'daisy': 1,\n",
    "    'dandelion': 2,\n",
    "    'sunflowers': 3,\n",
    "    'tulips': 4,\n",
    "}"
   ]
  },
  {
   "cell_type": "markdown",
   "id": "e2edaf27",
   "metadata": {},
   "source": [
    "### Iterando pelas imagens para criar o X e y"
   ]
  },
  {
   "cell_type": "code",
   "execution_count": null,
   "id": "947a33d9",
   "metadata": {},
   "outputs": [],
   "source": [
    "\n",
    "X, y = [], []\n",
    "\n",
    "for flower_name, images in flowers_images_dict.items():\n",
    "    for image in images:\n",
    "        img = cv2.imread(str(image))\n",
    "        resized_img = cv2.resize(img,(224,224))\n",
    "        X.append(resized_img)\n",
    "        y.append(flowers_labels_dict[flower_name])\n",
    "        "
   ]
  },
  {
   "cell_type": "markdown",
   "id": "15bb76cf",
   "metadata": {},
   "source": [
    "### Numpy Array armazena os valores finais"
   ]
  },
  {
   "cell_type": "code",
   "execution_count": null,
   "id": "1d65db65",
   "metadata": {},
   "outputs": [],
   "source": [
    "X = np.array(X)\n",
    "y = np.array(y)"
   ]
  },
  {
   "cell_type": "markdown",
   "id": "fa6f0020",
   "metadata": {},
   "source": [
    "### Separando os dados para teste e treino"
   ]
  },
  {
   "cell_type": "code",
   "execution_count": null,
   "id": "8320efaa",
   "metadata": {},
   "outputs": [],
   "source": [
    "from sklearn.model_selection import train_test_split\n",
    "X_train, X_test, y_train, y_test = train_test_split(X, y, random_state=42)"
   ]
  },
  {
   "cell_type": "markdown",
   "id": "f57b9b59",
   "metadata": {},
   "source": [
    "### Criando o X_train e X_test a serem usados para serem usados no processo de teste e treino"
   ]
  },
  {
   "cell_type": "code",
   "execution_count": null,
   "id": "21e48b81",
   "metadata": {},
   "outputs": [],
   "source": [
    "X_train_scaled = X_train / 255\n",
    "X_test_scaled = X_test / 255\n",
    "\n"
   ]
  },
  {
   "cell_type": "code",
   "execution_count": null,
   "id": "3c5c4289",
   "metadata": {},
   "outputs": [],
   "source": [
    "mobile_net_link = \"https://tfhub.dev/google/tf2-preview/mobilenet_v2/feature_vector/4\"\n",
    "\n",
    "pretrained_model_without_top_layer = hub.KerasLayer(\n",
    "    mobile_net_link, input_shape=(224, 224, 3), trainable=False)"
   ]
  },
  {
   "cell_type": "markdown",
   "id": "0b8fa4d8",
   "metadata": {},
   "source": [
    "### Visualização do modelo"
   ]
  },
  {
   "cell_type": "code",
   "execution_count": null,
   "id": "e57736a3",
   "metadata": {},
   "outputs": [],
   "source": [
    "model = tf.keras.Sequential([\n",
    "  pretrained_model_without_top_layer,\n",
    "  tf.keras.layers.Dense(len(np.unique(y)))\n",
    "])\n",
    "\n",
    "model.summary()"
   ]
  },
  {
   "cell_type": "code",
   "execution_count": null,
   "id": "a56e3ad1",
   "metadata": {},
   "outputs": [],
   "source": [
    "model.compile(\n",
    "  optimizer=\"adam\",\n",
    "  loss=tf.keras.losses.SparseCategoricalCrossentropy(from_logits=True),\n",
    "  metrics=['acc'])\n",
    "\n",
    "model.fit(X_train_scaled, y_train, epochs=4)"
   ]
  },
  {
   "cell_type": "code",
   "execution_count": null,
   "id": "1d261af7",
   "metadata": {},
   "outputs": [],
   "source": [
    "model.evaluate(X_test_scaled,y_test)\n"
   ]
  }
 ],
 "metadata": {
  "kernelspec": {
   "display_name": "Python 3 (ipykernel)",
   "language": "python",
   "name": "python3"
  },
  "language_info": {
   "codemirror_mode": {
    "name": "ipython",
    "version": 3
   },
   "file_extension": ".py",
   "mimetype": "text/x-python",
   "name": "python",
   "nbconvert_exporter": "python",
   "pygments_lexer": "ipython3",
   "version": "3.8.8"
  }
 },
 "nbformat": 4,
 "nbformat_minor": 5
}
